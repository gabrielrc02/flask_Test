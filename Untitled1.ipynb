{
  "nbformat": 4,
  "nbformat_minor": 0,
  "metadata": {
    "colab": {
      "provenance": [],
      "gpuType": "T4",
      "authorship_tag": "ABX9TyObFBSzaN6gXa1zKYDsEDgQ",
      "include_colab_link": true
    },
    "kernelspec": {
      "name": "python3",
      "display_name": "Python 3"
    },
    "language_info": {
      "name": "python"
    },
    "accelerator": "GPU"
  },
  "cells": [
    {
      "cell_type": "markdown",
      "metadata": {
        "id": "view-in-github",
        "colab_type": "text"
      },
      "source": [
        "<a href=\"https://colab.research.google.com/github/gabrielrc02/flask_Test/blob/master/Untitled1.ipynb\" target=\"_parent\"><img src=\"https://colab.research.google.com/assets/colab-badge.svg\" alt=\"Open In Colab\"/></a>"
      ]
    },
    {
      "cell_type": "markdown",
      "source": [
        "Confirmamos que tenemos acceso a la GPU. Primero hay que cambiar el tipo de entorno de ejecución a T4 GPU"
      ],
      "metadata": {
        "id": "lvrJxTdmxkKa"
      }
    },
    {
      "cell_type": "code",
      "execution_count": 1,
      "metadata": {
        "colab": {
          "base_uri": "https://localhost:8080/"
        },
        "id": "rVKDGvlsxa93",
        "outputId": "9effe255-d5f0-4e2b-b767-82a3b81bfbdd"
      },
      "outputs": [
        {
          "output_type": "stream",
          "name": "stdout",
          "text": [
            "Sat Jan 27 12:00:39 2024       \n",
            "+---------------------------------------------------------------------------------------+\n",
            "| NVIDIA-SMI 535.104.05             Driver Version: 535.104.05   CUDA Version: 12.2     |\n",
            "|-----------------------------------------+----------------------+----------------------+\n",
            "| GPU  Name                 Persistence-M | Bus-Id        Disp.A | Volatile Uncorr. ECC |\n",
            "| Fan  Temp   Perf          Pwr:Usage/Cap |         Memory-Usage | GPU-Util  Compute M. |\n",
            "|                                         |                      |               MIG M. |\n",
            "|=========================================+======================+======================|\n",
            "|   0  Tesla T4                       Off | 00000000:00:04.0 Off |                    0 |\n",
            "| N/A   44C    P8              10W /  70W |      0MiB / 15360MiB |      0%      Default |\n",
            "|                                         |                      |                  N/A |\n",
            "+-----------------------------------------+----------------------+----------------------+\n",
            "                                                                                         \n",
            "+---------------------------------------------------------------------------------------+\n",
            "| Processes:                                                                            |\n",
            "|  GPU   GI   CI        PID   Type   Process name                            GPU Memory |\n",
            "|        ID   ID                                                             Usage      |\n",
            "|=======================================================================================|\n",
            "|  No running processes found                                                           |\n",
            "+---------------------------------------------------------------------------------------+\n"
          ]
        }
      ],
      "source": [
        "!nvidia-smi"
      ]
    },
    {
      "cell_type": "markdown",
      "source": [
        "Instalar Kaggle"
      ],
      "metadata": {
        "id": "n_VpWL3Ty1Hw"
      }
    },
    {
      "cell_type": "code",
      "source": [
        "!pip install kaggle --upgrade --quiet"
      ],
      "metadata": {
        "colab": {
          "base_uri": "https://localhost:8080/"
        },
        "id": "rKuekj6Fy_q2",
        "outputId": "890a8e9c-e6fd-4193-856b-229382698d35"
      },
      "execution_count": 3,
      "outputs": [
        {
          "output_type": "stream",
          "name": "stdout",
          "text": [
            "\u001b[?25l     \u001b[90m━━━━━━━━━━━━━━━━━━━━━━━━━━━━━━━━━━━━━━━━\u001b[0m \u001b[32m0.0/84.5 kB\u001b[0m \u001b[31m?\u001b[0m eta \u001b[36m-:--:--\u001b[0m\r\u001b[2K     \u001b[90m━━━━━━━━━━━━━━━━━━━━━━━━━━━━━━━━━━━━━━━━\u001b[0m \u001b[32m84.5/84.5 kB\u001b[0m \u001b[31m3.1 MB/s\u001b[0m eta \u001b[36m0:00:00\u001b[0m\n",
            "\u001b[?25h  Preparing metadata (setup.py) ... \u001b[?25l\u001b[?25hdone\n",
            "  Building wheel for kaggle (setup.py) ... \u001b[?25l\u001b[?25hdone\n"
          ]
        }
      ]
    },
    {
      "cell_type": "markdown",
      "source": [
        "Usar la API de Kaggle para descargar los clips. Se establecen dos variables con usuario y key"
      ],
      "metadata": {
        "id": "8OU_wUH4za6A"
      }
    },
    {
      "cell_type": "code",
      "source": [
        "import os\n",
        "from getpass import getpass\n",
        "os.environ['KAGGLE_USERNAME'] = getpass('Introducir usuario de Kaggle: ')\n",
        "os.environ['KAGGLE_KEY'] = getpass('Introducir Key: ')"
      ],
      "metadata": {
        "colab": {
          "base_uri": "https://localhost:8080/"
        },
        "id": "QDflDG5yziUm",
        "outputId": "1c4447aa-9080-4c17-d9d0-f813fc8db240"
      },
      "execution_count": 4,
      "outputs": [
        {
          "name": "stdout",
          "output_type": "stream",
          "text": [
            "Introducir usuario de Kaggle: ··········\n",
            "Introducir Key: ··········\n"
          ]
        }
      ]
    },
    {
      "cell_type": "code",
      "source": [
        "# Variable HOME (directorio de trabajo) (get current working directory)\n",
        "HOME = os.getcwd()\n",
        "print(HOME)\n",
        "# Se accede al directorio de trabajo\n",
        "%cd {HOME}\n",
        "# Se listan los primeros 20 clips de dfl-bundesliga-data-shootout y se imprime la primera columna de cada línea, es decir, el nombre del archivo\n",
        "# En el while se descargan el archivo especificado (en .zip) y se almacena en directorio clips y elimina el archivo local\n",
        "# Se deben aceptar las condiciones de la competición para poder descargar el material (https://www.kaggle.com/c/dfl-bundesliga-data-shootout)\n",
        "!kaggle competitions files -c dfl-bundesliga-data-shootout | \\\n",
        "grep clips | head -20 | \\\n",
        "awk '{print $1}' | \\\n",
        "while read -r line; \\\n",
        "  do kaggle competitions download -c dfl-bundesliga-data-shootout -f $line -p clips --quiet; \\\n",
        "  unzip ${line}.zip -d clips && rm ${line}.zip; \\\n",
        "  done"
      ],
      "metadata": {
        "colab": {
          "base_uri": "https://localhost:8080/"
        },
        "id": "OAPBtTwm1Uwe",
        "outputId": "1f97d272-6325-481b-a7eb-4eef0912b894"
      },
      "execution_count": null,
      "outputs": [
        {
          "output_type": "stream",
          "name": "stdout",
          "text": [
            "/content/yolov5\n",
            "/content/yolov5\n",
            "Archive:  clips/08fd33_2.mp4.zip\n",
            "  inflating: clips/08fd33_2.mp4      \n",
            "Archive:  clips/08fd33_9.mp4.zip\n",
            "  inflating: clips/08fd33_9.mp4      \n",
            "Archive:  clips/0a2d9b_9.mp4.zip\n",
            "  inflating: clips/0a2d9b_9.mp4      \n",
            "Archive:  clips/08fd33_3.mp4.zip\n",
            "  inflating: clips/08fd33_3.mp4      \n",
            "Archive:  clips/08fd33_6.mp4.zip\n",
            "  inflating: clips/08fd33_6.mp4      \n",
            "Archive:  clips/08fd33_0.mp4.zip\n",
            "  inflating: clips/08fd33_0.mp4      \n",
            "Archive:  clips/0a2d9b_5.mp4.zip\n",
            "  inflating: clips/0a2d9b_5.mp4      \n",
            "Archive:  clips/08fd33_7.mp4.zip\n",
            "  inflating: clips/08fd33_7.mp4      \n",
            "Archive:  clips/0a2d9b_0.mp4.zip\n",
            "  inflating: clips/0a2d9b_0.mp4      \n",
            "Archive:  clips/0a2d9b_7.mp4.zip\n",
            "  inflating: clips/0a2d9b_7.mp4      \n",
            "Archive:  clips/08fd33_1.mp4.zip\n",
            "  inflating: clips/08fd33_1.mp4      \n",
            "Archive:  clips/0a2d9b_2.mp4.zip\n",
            "  inflating: clips/0a2d9b_2.mp4      \n"
          ]
        }
      ]
    },
    {
      "cell_type": "markdown",
      "source": [
        "Instalación Yolov5"
      ],
      "metadata": {
        "id": "L1ufIcFTJxv1"
      }
    },
    {
      "cell_type": "code",
      "source": [
        "# Se accede al directorio de trabajo\n",
        "%cd {HOME}\n",
        "# Clonación del repositorio\n",
        "!git clone https://github.com/ultralytics/yolov5\n",
        "# Acceder al directorio clonado\n",
        "%cd yolov5\n",
        "# Instalación de los requerimientos necesarios\n",
        "%pip install -r requirements.txt\n",
        "\n",
        "import torch\n",
        "import utils\n",
        "display = utils.notebook_init()"
      ],
      "metadata": {
        "colab": {
          "base_uri": "https://localhost:8080/",
          "height": 1000
        },
        "id": "idqemp8wJ0T2",
        "outputId": "355a140d-7be0-4398-d133-3780dc8332fb"
      },
      "execution_count": 1,
      "outputs": [
        {
          "output_type": "stream",
          "name": "stderr",
          "text": [
            "YOLOv5 🚀 v7.0-282-g9cdbd1de Python-3.10.12 torch-2.1.0+cu121 CUDA:0 (Tesla T4, 15102MiB)\n"
          ]
        },
        {
          "output_type": "stream",
          "name": "stdout",
          "text": [
            "Setup complete ✅ (2 CPUs, 12.7 GB RAM, 26.4/78.2 GB disk)\n"
          ]
        }
      ]
    },
    {
      "cell_type": "markdown",
      "source": [
        "Inferencia en un vídeo con el modelo pre-entrenado"
      ],
      "metadata": {
        "id": "NU5oq5ajNoRX"
      }
    },
    {
      "cell_type": "code",
      "source": [
        "%cd {HOME}/yolov5\n",
        "!python detect.py --weights yolov5x.pt --img 640 --conf 0.25 --source {HOME}/clips/08fd33_4.mp4 --name coco"
      ],
      "metadata": {
        "colab": {
          "base_uri": "https://localhost:8080/"
        },
        "id": "wfh90pxGNr4J",
        "outputId": "6bf59cf3-1457-42a4-9135-225d1a2af288"
      },
      "execution_count": 2,
      "outputs": [
        {
          "output_type": "stream",
          "name": "stdout",
          "text": [
            "[Errno 2] No such file or directory: '{HOME}/yolov5'\n",
            "/content/yolov5\n",
            "\u001b[34m\u001b[1mdetect: \u001b[0mweights=['yolov5x.pt'], source={HOME}/clips/08fd33_4.mp4, data=data/coco128.yaml, imgsz=[640, 640], conf_thres=0.25, iou_thres=0.45, max_det=1000, device=, view_img=False, save_txt=False, save_csv=False, save_conf=False, save_crop=False, nosave=False, classes=None, agnostic_nms=False, augment=False, visualize=False, update=False, project=runs/detect, name=coco, exist_ok=False, line_thickness=3, hide_labels=False, hide_conf=False, half=False, dnn=False, vid_stride=1\n",
            "YOLOv5 🚀 v7.0-282-g9cdbd1de Python-3.10.12 torch-2.1.0+cu121 CUDA:0 (Tesla T4, 15102MiB)\n",
            "\n",
            "Downloading https://github.com/ultralytics/yolov5/releases/download/v7.0/yolov5x.pt to yolov5x.pt...\n",
            "100% 166M/166M [00:00<00:00, 288MB/s]\n",
            "\n",
            "Fusing layers... \n",
            "YOLOv5x summary: 444 layers, 86705005 parameters, 0 gradients, 205.5 GFLOPs\n",
            "Traceback (most recent call last):\n",
            "  File \"/content/yolov5/detect.py\", line 309, in <module>\n",
            "    main(opt)\n",
            "  File \"/content/yolov5/detect.py\", line 304, in main\n",
            "    run(**vars(opt))\n",
            "  File \"/usr/local/lib/python3.10/dist-packages/torch/utils/_contextlib.py\", line 115, in decorate_context\n",
            "    return func(*args, **kwargs)\n",
            "  File \"/content/yolov5/detect.py\", line 128, in run\n",
            "    dataset = LoadImages(source, img_size=imgsz, stride=stride, auto=pt, vid_stride=vid_stride)\n",
            "  File \"/content/yolov5/utils/dataloaders.py\", line 313, in __init__\n",
            "    raise FileNotFoundError(f\"{p} does not exist\")\n",
            "FileNotFoundError: /content/yolov5/{HOME}/clips/08fd33_4.mp4 does not exist\n"
          ]
        }
      ]
    }
  ]
}